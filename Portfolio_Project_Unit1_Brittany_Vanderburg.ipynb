{
  "nbformat": 4,
  "nbformat_minor": 0,
  "metadata": {
    "colab": {
      "name": "Portfolio_Project_Unit1_Brittany_Vanderburg.ipynb",
      "provenance": [],
      "authorship_tag": "ABX9TyM0ujMexki4DhWDTIM7MieJ",
      "include_colab_link": true
    },
    "kernelspec": {
      "name": "python3",
      "display_name": "Python 3"
    }
  },
  "cells": [
    {
      "cell_type": "markdown",
      "metadata": {
        "id": "view-in-github",
        "colab_type": "text"
      },
      "source": [
        "<a href=\"https://colab.research.google.com/github/BritVandy/SNAP-benefits-by-political-party/blob/main/Portfolio_Project_Unit1_Brittany_Vanderburg.ipynb\" target=\"_parent\"><img src=\"https://colab.research.google.com/assets/colab-badge.svg\" alt=\"Open In Colab\"/></a>"
      ]
    },
    {
      "cell_type": "markdown",
      "metadata": {
        "id": "3ft_Ehc6aOfd"
      },
      "source": [
        "This file is from the Kaggle website"
      ]
    },
    {
      "cell_type": "code",
      "metadata": {
        "colab": {
          "resources": {
            "http://localhost:8080/nbextensions/google.colab/files.js": {
              "data": "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",
              "ok": true,
              "headers": [
                [
                  "content-type",
                  "application/javascript"
                ]
              ],
              "status": 200,
              "status_text": ""
            }
          },
          "base_uri": "https://localhost:8080/",
          "height": 72
        },
        "id": "fXwLgj-TABPc",
        "outputId": "9eee8e01-938e-48c0-abac-c4c0299215df"
      },
      "source": [
        "from google.colab import files\n",
        "uploaded = files.upload()"
      ],
      "execution_count": 1,
      "outputs": [
        {
          "output_type": "display_data",
          "data": {
            "text/html": [
              "\n",
              "     <input type=\"file\" id=\"files-777c3f80-3732-4ccb-becd-f3ab3d0931df\" name=\"files[]\" multiple disabled\n",
              "        style=\"border:none\" />\n",
              "     <output id=\"result-777c3f80-3732-4ccb-becd-f3ab3d0931df\">\n",
              "      Upload widget is only available when the cell has been executed in the\n",
              "      current browser session. Please rerun this cell to enable.\n",
              "      </output>\n",
              "      <script src=\"/nbextensions/google.colab/files.js\"></script> "
            ],
            "text/plain": [
              "<IPython.core.display.HTML object>"
            ]
          },
          "metadata": {
            "tags": []
          }
        },
        {
          "output_type": "stream",
          "text": [
            "Saving archive.zip to archive.zip\n"
          ],
          "name": "stdout"
        }
      ]
    },
    {
      "cell_type": "code",
      "metadata": {
        "id": "dsO6tRZbAIwH",
        "colab": {
          "base_uri": "https://localhost:8080/"
        },
        "outputId": "da3ade7c-dab8-449c-83db-65d68cb78e91"
      },
      "source": [
        "!unzip archive.zip"
      ],
      "execution_count": 2,
      "outputs": [
        {
          "output_type": "stream",
          "text": [
            "Archive:  archive.zip\n",
            "  inflating: SNAP_FY2010_FY2020/FY10.xls  \n",
            "  inflating: SNAP_FY2010_FY2020/FY11.xls  \n",
            "  inflating: SNAP_FY2010_FY2020/FY12.xls  \n",
            "  inflating: SNAP_FY2010_FY2020/FY13.xls  \n",
            "  inflating: SNAP_FY2010_FY2020/FY14.xls  \n",
            "  inflating: SNAP_FY2010_FY2020/FY15.xls  \n",
            "  inflating: SNAP_FY2010_FY2020/FY16.xls  \n",
            "  inflating: SNAP_FY2010_FY2020/FY17.xls  \n",
            "  inflating: SNAP_FY2010_FY2020/FY18.xls  \n",
            "  inflating: SNAP_FY2010_FY2020/FY19.xls  \n",
            "  inflating: SNAP_FY2010_FY2020/FY20.xls  \n",
            "  inflating: SNAP_history_1969_2019.csv  \n",
            "  inflating: WICAgencies2013ytd/Average_Food_Cost_Per_Person.csv  \n",
            "  inflating: WICAgencies2013ytd/Children_Participating.csv  \n",
            "  inflating: WICAgencies2013ytd/Food_Costs.csv  \n",
            "  inflating: WICAgencies2013ytd/Infants_Fully_Breastfed.csv  \n",
            "  inflating: WICAgencies2013ytd/Infants_Fully_Formula-fed.csv  \n",
            "  inflating: WICAgencies2013ytd/Infants_Partially_Breastfed.csv  \n",
            "  inflating: WICAgencies2013ytd/Nut_Services_Admin_Costs.csv  \n",
            "  inflating: WICAgencies2013ytd/Postpartum_Women_Participating.csv  \n",
            "  inflating: WICAgencies2013ytd/Pregnant_Women_Participating.csv  \n",
            "  inflating: WICAgencies2013ytd/Rebates_Received.csv  \n",
            "  inflating: WICAgencies2013ytd/Total_Breastfeeding_Women.csv  \n",
            "  inflating: WICAgencies2013ytd/Total_Infants.csv  \n",
            "  inflating: WICAgencies2013ytd/Total_Number_of_Participants.csv  \n",
            "  inflating: WICAgencies2013ytd/Total_Women.csv  \n",
            "  inflating: WICAgencies2013ytd/Women_Fully_Breastfeeding.csv  \n",
            "  inflating: WICAgencies2013ytd/Women_Partially_Breastfeeding.csv  \n",
            "  inflating: WICAgencies2014ytd/Average_Food_Cost_Per_Person.csv  \n",
            "  inflating: WICAgencies2014ytd/Children_Participating.csv  \n",
            "  inflating: WICAgencies2014ytd/Food_Costs.csv  \n",
            "  inflating: WICAgencies2014ytd/Infants_Fully_Breastfed.csv  \n",
            "  inflating: WICAgencies2014ytd/Infants_Fully_Formula-fed.csv  \n",
            "  inflating: WICAgencies2014ytd/Infants_Partially_Breastfed.csv  \n",
            "  inflating: WICAgencies2014ytd/Nut_Services_Admin_Costs.csv  \n",
            "  inflating: WICAgencies2014ytd/Postpartum_Women_Participating.csv  \n",
            "  inflating: WICAgencies2014ytd/Pregnant_Women_Participating.csv  \n",
            "  inflating: WICAgencies2014ytd/Rebates_Received.csv  \n",
            "  inflating: WICAgencies2014ytd/Total_Breastfeeding_Women.csv  \n",
            "  inflating: WICAgencies2014ytd/Total_Infants.csv  \n",
            "  inflating: WICAgencies2014ytd/Total_Number_of_Participants.csv  \n",
            "  inflating: WICAgencies2014ytd/Total_Women.csv  \n",
            "  inflating: WICAgencies2014ytd/Women_Fully_Breastfeeding.csv  \n",
            "  inflating: WICAgencies2014ytd/Women_Partially_Breastfeeding.csv  \n",
            "  inflating: WICAgencies2015ytd/Average_Food_Cost_Per_Person.csv  \n",
            "  inflating: WICAgencies2015ytd/Children_Participating.csv  \n",
            "  inflating: WICAgencies2015ytd/Food_Costs.csv  \n",
            "  inflating: WICAgencies2015ytd/Infants_Fully_Breastfed.csv  \n",
            "  inflating: WICAgencies2015ytd/Infants_Fully_Formula-fed.csv  \n",
            "  inflating: WICAgencies2015ytd/Infants_Partially_Breastfed.csv  \n",
            "  inflating: WICAgencies2015ytd/Nut_Services_Admin_Costs.csv  \n",
            "  inflating: WICAgencies2015ytd/Postpartum_Women_Participating.csv  \n",
            "  inflating: WICAgencies2015ytd/Pregnant_Women_Participating.csv  \n",
            "  inflating: WICAgencies2015ytd/Rebates_Received.csv  \n",
            "  inflating: WICAgencies2015ytd/Total_Breastfeeding_Women.csv  \n",
            "  inflating: WICAgencies2015ytd/Total_Infants.csv  \n",
            "  inflating: WICAgencies2015ytd/Total_Number_of_Participants.csv  \n",
            "  inflating: WICAgencies2015ytd/Total_Women.csv  \n",
            "  inflating: WICAgencies2015ytd/Women_Fully_Breastfeeding.csv  \n",
            "  inflating: WICAgencies2015ytd/Women_Partially_Breastfeeding.csv  \n",
            "  inflating: WICAgencies2016ytd/Average_Food_Cost_Per_Person.csv  \n",
            "  inflating: WICAgencies2016ytd/Children_Participating.csv  \n",
            "  inflating: WICAgencies2016ytd/Food_Costs.csv  \n",
            "  inflating: WICAgencies2016ytd/Infants_Fully_Breastfed.csv  \n",
            "  inflating: WICAgencies2016ytd/Infants_Fully_Formula-fed.csv  \n",
            "  inflating: WICAgencies2016ytd/Infants_Partially_Breastfed.csv  \n",
            "  inflating: WICAgencies2016ytd/Nut_Services_Admin_Costs.csv  \n",
            "  inflating: WICAgencies2016ytd/Postpartum_Women_Participating.csv  \n",
            "  inflating: WICAgencies2016ytd/Pregnant_Women_Participating.csv  \n",
            "  inflating: WICAgencies2016ytd/Rebates_Received.csv  \n",
            "  inflating: WICAgencies2016ytd/Total_Breastfeeding_Women.csv  \n",
            "  inflating: WICAgencies2016ytd/Total_Infants.csv  \n",
            "  inflating: WICAgencies2016ytd/Total_Number_of_Participants.csv  \n",
            "  inflating: WICAgencies2016ytd/Total_Women.csv  \n",
            "  inflating: WICAgencies2016ytd/Women_Fully_Breastfeeding.csv  \n",
            "  inflating: WICAgencies2016ytd/Women_Partially_Breastfeeding.csv  \n",
            "  inflating: est13_16us/est13us.csv  \n",
            "  inflating: est13_16us/est14us.csv  \n",
            "  inflating: est13_16us/est15us.csv  \n",
            "  inflating: est13_16us/est16us.csv  \n"
          ],
          "name": "stdout"
        }
      ]
    },
    {
      "cell_type": "code",
      "metadata": {
        "id": "1-Zr4BNKBby3"
      },
      "source": [
        "import numpy as np\n",
        "import pandas as pd\n",
        "\n",
        "df = pd.read_csv('SNAP_history_1969_2019.csv')"
      ],
      "execution_count": 3,
      "outputs": []
    },
    {
      "cell_type": "code",
      "metadata": {
        "colab": {
          "base_uri": "https://localhost:8080/",
          "height": 204
        },
        "id": "yKApfPadB-VS",
        "outputId": "8ca952c6-e6cc-44f2-e028-9fd2fcdbda32"
      },
      "source": [
        "df.head()"
      ],
      "execution_count": 4,
      "outputs": [
        {
          "output_type": "execute_result",
          "data": {
            "text/html": [
              "<div>\n",
              "<style scoped>\n",
              "    .dataframe tbody tr th:only-of-type {\n",
              "        vertical-align: middle;\n",
              "    }\n",
              "\n",
              "    .dataframe tbody tr th {\n",
              "        vertical-align: top;\n",
              "    }\n",
              "\n",
              "    .dataframe thead th {\n",
              "        text-align: right;\n",
              "    }\n",
              "</style>\n",
              "<table border=\"1\" class=\"dataframe\">\n",
              "  <thead>\n",
              "    <tr style=\"text-align: right;\">\n",
              "      <th></th>\n",
              "      <th>Fiscal Year</th>\n",
              "      <th>Average Participation</th>\n",
              "      <th>Average Benefit Per Person</th>\n",
              "      <th>Total Benefits(M)</th>\n",
              "      <th>Other Costs</th>\n",
              "      <th>Total Costs(M)</th>\n",
              "    </tr>\n",
              "  </thead>\n",
              "  <tbody>\n",
              "    <tr>\n",
              "      <th>0</th>\n",
              "      <td>1969</td>\n",
              "      <td>2,878</td>\n",
              "      <td>6.63</td>\n",
              "      <td>228.80</td>\n",
              "      <td>21.70</td>\n",
              "      <td>250.50</td>\n",
              "    </tr>\n",
              "    <tr>\n",
              "      <th>1</th>\n",
              "      <td>1970</td>\n",
              "      <td>4,340</td>\n",
              "      <td>10.55</td>\n",
              "      <td>549.70</td>\n",
              "      <td>27.20</td>\n",
              "      <td>576.90</td>\n",
              "    </tr>\n",
              "    <tr>\n",
              "      <th>2</th>\n",
              "      <td>1971</td>\n",
              "      <td>9,368</td>\n",
              "      <td>13.55</td>\n",
              "      <td>1,522.70</td>\n",
              "      <td>53.20</td>\n",
              "      <td>1,575.90</td>\n",
              "    </tr>\n",
              "    <tr>\n",
              "      <th>3</th>\n",
              "      <td>1972</td>\n",
              "      <td>11,109</td>\n",
              "      <td>13.48</td>\n",
              "      <td>1,797.30</td>\n",
              "      <td>69.40</td>\n",
              "      <td>1,866.70</td>\n",
              "    </tr>\n",
              "    <tr>\n",
              "      <th>4</th>\n",
              "      <td>1973</td>\n",
              "      <td>12,166</td>\n",
              "      <td>14.60</td>\n",
              "      <td>2,131.40</td>\n",
              "      <td>76.00</td>\n",
              "      <td>2,207.40</td>\n",
              "    </tr>\n",
              "  </tbody>\n",
              "</table>\n",
              "</div>"
            ],
            "text/plain": [
              "  Fiscal Year Average Participation  ...  Other Costs Total Costs(M)\n",
              "0        1969                 2,878  ...        21.70         250.50\n",
              "1        1970                 4,340  ...        27.20         576.90\n",
              "2        1971                 9,368  ...        53.20       1,575.90\n",
              "3        1972                11,109  ...        69.40       1,866.70\n",
              "4        1973                12,166  ...        76.00       2,207.40\n",
              "\n",
              "[5 rows x 6 columns]"
            ]
          },
          "metadata": {
            "tags": []
          },
          "execution_count": 4
        }
      ]
    },
    {
      "cell_type": "markdown",
      "metadata": {
        "id": "uUFsA1TUaTOH"
      },
      "source": [
        "Checking for missing values."
      ]
    },
    {
      "cell_type": "code",
      "metadata": {
        "colab": {
          "base_uri": "https://localhost:8080/"
        },
        "id": "MMkGKZ3JVYws",
        "outputId": "2b1a8cf7-d1c4-4769-e906-5b7df2e10c65"
      },
      "source": [
        "df.isnull().sum()"
      ],
      "execution_count": 5,
      "outputs": [
        {
          "output_type": "execute_result",
          "data": {
            "text/plain": [
              "Fiscal Year                   0\n",
              "Average Participation         0\n",
              "Average Benefit Per Person    0\n",
              "Total Benefits(M)             0\n",
              "Other Costs                   0\n",
              "Total Costs(M)                0\n",
              "dtype: int64"
            ]
          },
          "metadata": {
            "tags": []
          },
          "execution_count": 5
        }
      ]
    },
    {
      "cell_type": "markdown",
      "metadata": {
        "id": "gRR57IiFaUMH"
      },
      "source": [
        "There is an error in the fiscal year column."
      ]
    },
    {
      "cell_type": "code",
      "metadata": {
        "id": "6c9RqtSAVi1U",
        "colab": {
          "base_uri": "https://localhost:8080/"
        },
        "outputId": "f2856e34-3ca2-45ed-ac33-95372d441f1e"
      },
      "source": [
        "print(df)"
      ],
      "execution_count": 6,
      "outputs": [
        {
          "output_type": "stream",
          "text": [
            "   Fiscal Year Average Participation  ...  Other Costs Total Costs(M)\n",
            "0         1969                 2,878  ...        21.70         250.50\n",
            "1         1970                 4,340  ...        27.20         576.90\n",
            "2         1971                 9,368  ...        53.20       1,575.90\n",
            "3         1972                11,109  ...        69.40       1,866.70\n",
            "4         1973                12,166  ...        76.00       2,207.40\n",
            "5         1974                12,862  ...       119.20       2,837.50\n",
            "6         1975                17,064  ...       233.20       4,618.70\n",
            "7         1976                18,549  ...       359.00       5,685.50\n",
            "8         1977                17,077  ...       394.00       5,461.00\n",
            "9         1978                16,001  ...       380.50       5,519.70\n",
            "10        1979                17,653  ...       459.60       6,939.80\n",
            "11        1980                21,082  ...       485.60       9,206.50\n",
            "12        1981                22,430  ...       595.40      11,225.20\n",
            "13     1982 3]                21,717  ...       628.40      10,836.70\n",
            "14        1983                21,625  ...       694.80      11,847.10\n",
            "15        1984                20,854  ...       882.60      11,578.80\n",
            "16        1985                19,899  ...       959.60      11,703.20\n",
            "17        1986                19,429  ...     1,033.20      11,638.40\n",
            "18        1987                19,113  ...     1,103.90      11,604.20\n",
            "19        1988                18,645  ...     1,167.70      12,316.80\n",
            "20        1989                18,806  ...     1,231.81      12,901.59\n",
            "21        1990                20,049  ...     1,304.47      15,447.26\n",
            "22        1991                22,625  ...     1,431.50      18,747.27\n",
            "23        1992                25,407  ...     1,556.66      22,462.34\n",
            "24        1993                26,987  ...     1,646.94      23,652.97\n",
            "25        1994                27,474  ...     1,744.87      24,493.45\n",
            "26        1995                26,619  ...     1,856.30      24,620.37\n",
            "27        1996                25,543  ...     1,890.88      24,330.99\n",
            "28        1997                22,858  ...     1,958.68      21,507.55\n",
            "29        1998                19,791  ...     2,097.84      18,988.32\n",
            "30        1999                18,183  ...     2,051.52      17,820.92\n",
            "31        2000                17,194  ...     2,070.70      17,054.02\n",
            "32        2001                17,318  ...     2,242.00      17,789.39\n",
            "33        2002                19,096  ...     2,380.82      20,637.02\n",
            "34        2003                21,250  ...     2,412.01      23,816.28\n",
            "35        2004                23,811  ...     2,480.14      27,099.03\n",
            "36        2005                25,628  ...     2,504.13      31,072.01\n",
            "37        2006                26,549  ...     2,715.72      32,903.06\n",
            "38        2007                26,316  ...     2,800.25      33,173.52\n",
            "39        2008                28,223  ...     3,031.25      37,639.64\n",
            "40        2009                33,490  ...     3,260.00      53,619.92\n",
            "41        2010                40,302  ...     3,581.30      68,283.47\n",
            "42        2011                44,709  ...     3,875.62      75,686.54\n",
            "43        2012                46,609  ...     3,791.75      78,411.10\n",
            "44        2013                47,636  ...     3,792.71      79,859.03\n",
            "45        2014                46,664  ...     4,061.49      74,060.33\n",
            "46        2015                45,767  ...     4,301.03      73,946.17\n",
            "47        2016                44,220  ...     4,374.28      70,913.55\n",
            "48        2017                42,317  ...     4,463.67      68,174.72\n",
            "49        2018                40,776  ...     4,529.55      65,446.40\n",
            "50        2019                35,703  ...     4,744.33      60,366.21\n",
            "\n",
            "[51 rows x 6 columns]\n"
          ],
          "name": "stdout"
        }
      ]
    },
    {
      "cell_type": "code",
      "metadata": {
        "id": "mKIO3b7FVJZk"
      },
      "source": [
        "df = df.replace('1982 3]', 1982)"
      ],
      "execution_count": 7,
      "outputs": []
    },
    {
      "cell_type": "markdown",
      "metadata": {
        "id": "EGvjE-YvadR4"
      },
      "source": [
        "I created my own dataset of the presidents of USA, their political party, and the years they served to meet the requirements of my research question. This dataset is from 1969-2019."
      ]
    },
    {
      "cell_type": "code",
      "metadata": {
        "id": "PgZd0zU0N0kR"
      },
      "source": [
        "d = {'President Name':['Richard Nixon', 'Richard Nixon', 'Richard Nixon', 'Richard Nixon', 'Richard Nixon', 'Gerald Ford', 'Gerald Ford', 'Gerald Ford', 'Jimmy Carter', 'Jimmy Carter', 'Jimmy Carter', 'Jimmy Carter', 'Ronald Reagan', 'Ronald Reagan', 'Ronald Reagan', 'Ronald Reagan', 'Ronald Reagan', 'Ronald Reagan', 'Ronald Reagan', 'Ronald Reagan', 'George H. W. Bush', 'George H. W. Bush', 'George H. W. Bush', 'George H. W. Bush', 'Bill Clinton', 'Bill Clinton', 'Bill Clinton', 'Bill Clinton', 'Bill Clinton', 'Bill Clinton', 'Bill Clinton', 'Bill Clinton', 'George W. Bush', 'George W. Bush', 'George W. Bush', 'George W. Bush', 'George W. Bush', 'George W. Bush', 'George W. Bush', 'George W. Bush', 'Barack Obama', 'Barack Obama', 'Barack Obama', 'Barack Obama', 'Barack Obama', 'Barack Obama', 'Barack Obama', 'Barack Obama', 'Donald Trump', 'Donald Trump', 'Donald Trump'], 'President Party':['Republican', 'Republican', 'Republican', 'Republican', 'Republican', 'Republican', 'Republican', 'Republican', 'Democratic', 'Democratic', 'Democratic', 'Democratic', 'Republican', 'Republican', 'Republican', 'Republican', 'Republican', 'Republican', 'Republican', 'Republican', 'Republican', 'Republican', 'Republican', 'Republican', 'Democratic', 'Democratic', 'Democratic', 'Democratic', 'Democratic', 'Democratic', 'Democratic', 'Democratic', 'Republican', 'Republican', 'Republican', 'Republican', 'Republican', 'Republican', 'Republican', 'Republican', 'Democratic', 'Democratic', 'Democratic', 'Democratic', 'Democratic', 'Democratic', 'Democratic', 'Democratic', 'Republican', 'Republican', 'Republican'], 'Year':[1969, 1970, 1971, 1972, 1973, 1974, 1975, 1976, 1977, 1978, 1979, 1980, 1981, 1982, 1983, 1984, 1985, 1986, 1987, 1988, 1989, 1990, 1991, 1992, 1993, 1994, 1995, 1996, 1997, 1998, 1999, 2000, 2001, 2002, 2003, 2004, 2005, 2006, 2007, 2008, 2009, 2010, 2011, 2012, 2013, 2014, 2015, 2016, 2017, 2018, 2019]}"
      ],
      "execution_count": 8,
      "outputs": []
    },
    {
      "cell_type": "code",
      "metadata": {
        "id": "Bzf8kqwKQlqF",
        "colab": {
          "base_uri": "https://localhost:8080/"
        },
        "outputId": "421baadc-9d43-4e3e-d772-39fe4ea93bbb"
      },
      "source": [
        "by_year_and_party = pd.DataFrame(data=d)\n",
        "print(by_year_and_party)"
      ],
      "execution_count": 9,
      "outputs": [
        {
          "output_type": "stream",
          "text": [
            "       President Name President Party  Year\n",
            "0       Richard Nixon      Republican  1969\n",
            "1       Richard Nixon      Republican  1970\n",
            "2       Richard Nixon      Republican  1971\n",
            "3       Richard Nixon      Republican  1972\n",
            "4       Richard Nixon      Republican  1973\n",
            "5         Gerald Ford      Republican  1974\n",
            "6         Gerald Ford      Republican  1975\n",
            "7         Gerald Ford      Republican  1976\n",
            "8        Jimmy Carter      Democratic  1977\n",
            "9        Jimmy Carter      Democratic  1978\n",
            "10       Jimmy Carter      Democratic  1979\n",
            "11       Jimmy Carter      Democratic  1980\n",
            "12      Ronald Reagan      Republican  1981\n",
            "13      Ronald Reagan      Republican  1982\n",
            "14      Ronald Reagan      Republican  1983\n",
            "15      Ronald Reagan      Republican  1984\n",
            "16      Ronald Reagan      Republican  1985\n",
            "17      Ronald Reagan      Republican  1986\n",
            "18      Ronald Reagan      Republican  1987\n",
            "19      Ronald Reagan      Republican  1988\n",
            "20  George H. W. Bush      Republican  1989\n",
            "21  George H. W. Bush      Republican  1990\n",
            "22  George H. W. Bush      Republican  1991\n",
            "23  George H. W. Bush      Republican  1992\n",
            "24       Bill Clinton      Democratic  1993\n",
            "25       Bill Clinton      Democratic  1994\n",
            "26       Bill Clinton      Democratic  1995\n",
            "27       Bill Clinton      Democratic  1996\n",
            "28       Bill Clinton      Democratic  1997\n",
            "29       Bill Clinton      Democratic  1998\n",
            "30       Bill Clinton      Democratic  1999\n",
            "31       Bill Clinton      Democratic  2000\n",
            "32     George W. Bush      Republican  2001\n",
            "33     George W. Bush      Republican  2002\n",
            "34     George W. Bush      Republican  2003\n",
            "35     George W. Bush      Republican  2004\n",
            "36     George W. Bush      Republican  2005\n",
            "37     George W. Bush      Republican  2006\n",
            "38     George W. Bush      Republican  2007\n",
            "39     George W. Bush      Republican  2008\n",
            "40       Barack Obama      Democratic  2009\n",
            "41       Barack Obama      Democratic  2010\n",
            "42       Barack Obama      Democratic  2011\n",
            "43       Barack Obama      Democratic  2012\n",
            "44       Barack Obama      Democratic  2013\n",
            "45       Barack Obama      Democratic  2014\n",
            "46       Barack Obama      Democratic  2015\n",
            "47       Barack Obama      Democratic  2016\n",
            "48       Donald Trump      Republican  2017\n",
            "49       Donald Trump      Republican  2018\n",
            "50       Donald Trump      Republican  2019\n"
          ],
          "name": "stdout"
        }
      ]
    },
    {
      "cell_type": "markdown",
      "metadata": {
        "id": "lQwKsO3Ua9Ej"
      },
      "source": [
        "Combining both datasets will allow me to compare the different variables easily."
      ]
    },
    {
      "cell_type": "code",
      "metadata": {
        "colab": {
          "base_uri": "https://localhost:8080/",
          "height": 204
        },
        "id": "4TeM1b5nU9zF",
        "outputId": "777fe3d2-49ef-4c44-ec01-0ebb4a31f502"
      },
      "source": [
        "snap_pres = pd.concat([by_year_and_party, df], axis = 1)\n",
        "snap_pres.head()"
      ],
      "execution_count": 10,
      "outputs": [
        {
          "output_type": "execute_result",
          "data": {
            "text/html": [
              "<div>\n",
              "<style scoped>\n",
              "    .dataframe tbody tr th:only-of-type {\n",
              "        vertical-align: middle;\n",
              "    }\n",
              "\n",
              "    .dataframe tbody tr th {\n",
              "        vertical-align: top;\n",
              "    }\n",
              "\n",
              "    .dataframe thead th {\n",
              "        text-align: right;\n",
              "    }\n",
              "</style>\n",
              "<table border=\"1\" class=\"dataframe\">\n",
              "  <thead>\n",
              "    <tr style=\"text-align: right;\">\n",
              "      <th></th>\n",
              "      <th>President Name</th>\n",
              "      <th>President Party</th>\n",
              "      <th>Year</th>\n",
              "      <th>Fiscal Year</th>\n",
              "      <th>Average Participation</th>\n",
              "      <th>Average Benefit Per Person</th>\n",
              "      <th>Total Benefits(M)</th>\n",
              "      <th>Other Costs</th>\n",
              "      <th>Total Costs(M)</th>\n",
              "    </tr>\n",
              "  </thead>\n",
              "  <tbody>\n",
              "    <tr>\n",
              "      <th>0</th>\n",
              "      <td>Richard Nixon</td>\n",
              "      <td>Republican</td>\n",
              "      <td>1969</td>\n",
              "      <td>1969</td>\n",
              "      <td>2,878</td>\n",
              "      <td>6.63</td>\n",
              "      <td>228.80</td>\n",
              "      <td>21.70</td>\n",
              "      <td>250.50</td>\n",
              "    </tr>\n",
              "    <tr>\n",
              "      <th>1</th>\n",
              "      <td>Richard Nixon</td>\n",
              "      <td>Republican</td>\n",
              "      <td>1970</td>\n",
              "      <td>1970</td>\n",
              "      <td>4,340</td>\n",
              "      <td>10.55</td>\n",
              "      <td>549.70</td>\n",
              "      <td>27.20</td>\n",
              "      <td>576.90</td>\n",
              "    </tr>\n",
              "    <tr>\n",
              "      <th>2</th>\n",
              "      <td>Richard Nixon</td>\n",
              "      <td>Republican</td>\n",
              "      <td>1971</td>\n",
              "      <td>1971</td>\n",
              "      <td>9,368</td>\n",
              "      <td>13.55</td>\n",
              "      <td>1,522.70</td>\n",
              "      <td>53.20</td>\n",
              "      <td>1,575.90</td>\n",
              "    </tr>\n",
              "    <tr>\n",
              "      <th>3</th>\n",
              "      <td>Richard Nixon</td>\n",
              "      <td>Republican</td>\n",
              "      <td>1972</td>\n",
              "      <td>1972</td>\n",
              "      <td>11,109</td>\n",
              "      <td>13.48</td>\n",
              "      <td>1,797.30</td>\n",
              "      <td>69.40</td>\n",
              "      <td>1,866.70</td>\n",
              "    </tr>\n",
              "    <tr>\n",
              "      <th>4</th>\n",
              "      <td>Richard Nixon</td>\n",
              "      <td>Republican</td>\n",
              "      <td>1973</td>\n",
              "      <td>1973</td>\n",
              "      <td>12,166</td>\n",
              "      <td>14.60</td>\n",
              "      <td>2,131.40</td>\n",
              "      <td>76.00</td>\n",
              "      <td>2,207.40</td>\n",
              "    </tr>\n",
              "  </tbody>\n",
              "</table>\n",
              "</div>"
            ],
            "text/plain": [
              "  President Name President Party  ...  Other Costs Total Costs(M)\n",
              "0  Richard Nixon      Republican  ...        21.70         250.50\n",
              "1  Richard Nixon      Republican  ...        27.20         576.90\n",
              "2  Richard Nixon      Republican  ...        53.20       1,575.90\n",
              "3  Richard Nixon      Republican  ...        69.40       1,866.70\n",
              "4  Richard Nixon      Republican  ...        76.00       2,207.40\n",
              "\n",
              "[5 rows x 9 columns]"
            ]
          },
          "metadata": {
            "tags": []
          },
          "execution_count": 10
        }
      ]
    },
    {
      "cell_type": "markdown",
      "metadata": {
        "id": "W2QVktHWbBSc"
      },
      "source": [
        "By dropping the Fiscal Year column, I was able to keep only one column for the year."
      ]
    },
    {
      "cell_type": "code",
      "metadata": {
        "id": "SsPlIZJOYjus"
      },
      "source": [
        "snap_pres = snap_pres.drop('Fiscal Year', axis = 1)"
      ],
      "execution_count": 11,
      "outputs": []
    },
    {
      "cell_type": "code",
      "metadata": {
        "colab": {
          "base_uri": "https://localhost:8080/",
          "height": 204
        },
        "id": "O_-SUivGZM7l",
        "outputId": "6afb5fdd-ca19-4ee7-e931-3df8579be7cb"
      },
      "source": [
        "snap_pres.head()"
      ],
      "execution_count": 12,
      "outputs": [
        {
          "output_type": "execute_result",
          "data": {
            "text/html": [
              "<div>\n",
              "<style scoped>\n",
              "    .dataframe tbody tr th:only-of-type {\n",
              "        vertical-align: middle;\n",
              "    }\n",
              "\n",
              "    .dataframe tbody tr th {\n",
              "        vertical-align: top;\n",
              "    }\n",
              "\n",
              "    .dataframe thead th {\n",
              "        text-align: right;\n",
              "    }\n",
              "</style>\n",
              "<table border=\"1\" class=\"dataframe\">\n",
              "  <thead>\n",
              "    <tr style=\"text-align: right;\">\n",
              "      <th></th>\n",
              "      <th>President Name</th>\n",
              "      <th>President Party</th>\n",
              "      <th>Year</th>\n",
              "      <th>Average Participation</th>\n",
              "      <th>Average Benefit Per Person</th>\n",
              "      <th>Total Benefits(M)</th>\n",
              "      <th>Other Costs</th>\n",
              "      <th>Total Costs(M)</th>\n",
              "    </tr>\n",
              "  </thead>\n",
              "  <tbody>\n",
              "    <tr>\n",
              "      <th>0</th>\n",
              "      <td>Richard Nixon</td>\n",
              "      <td>Republican</td>\n",
              "      <td>1969</td>\n",
              "      <td>2,878</td>\n",
              "      <td>6.63</td>\n",
              "      <td>228.80</td>\n",
              "      <td>21.70</td>\n",
              "      <td>250.50</td>\n",
              "    </tr>\n",
              "    <tr>\n",
              "      <th>1</th>\n",
              "      <td>Richard Nixon</td>\n",
              "      <td>Republican</td>\n",
              "      <td>1970</td>\n",
              "      <td>4,340</td>\n",
              "      <td>10.55</td>\n",
              "      <td>549.70</td>\n",
              "      <td>27.20</td>\n",
              "      <td>576.90</td>\n",
              "    </tr>\n",
              "    <tr>\n",
              "      <th>2</th>\n",
              "      <td>Richard Nixon</td>\n",
              "      <td>Republican</td>\n",
              "      <td>1971</td>\n",
              "      <td>9,368</td>\n",
              "      <td>13.55</td>\n",
              "      <td>1,522.70</td>\n",
              "      <td>53.20</td>\n",
              "      <td>1,575.90</td>\n",
              "    </tr>\n",
              "    <tr>\n",
              "      <th>3</th>\n",
              "      <td>Richard Nixon</td>\n",
              "      <td>Republican</td>\n",
              "      <td>1972</td>\n",
              "      <td>11,109</td>\n",
              "      <td>13.48</td>\n",
              "      <td>1,797.30</td>\n",
              "      <td>69.40</td>\n",
              "      <td>1,866.70</td>\n",
              "    </tr>\n",
              "    <tr>\n",
              "      <th>4</th>\n",
              "      <td>Richard Nixon</td>\n",
              "      <td>Republican</td>\n",
              "      <td>1973</td>\n",
              "      <td>12,166</td>\n",
              "      <td>14.60</td>\n",
              "      <td>2,131.40</td>\n",
              "      <td>76.00</td>\n",
              "      <td>2,207.40</td>\n",
              "    </tr>\n",
              "  </tbody>\n",
              "</table>\n",
              "</div>"
            ],
            "text/plain": [
              "  President Name President Party  ...  Other Costs Total Costs(M)\n",
              "0  Richard Nixon      Republican  ...        21.70         250.50\n",
              "1  Richard Nixon      Republican  ...        27.20         576.90\n",
              "2  Richard Nixon      Republican  ...        53.20       1,575.90\n",
              "3  Richard Nixon      Republican  ...        69.40       1,866.70\n",
              "4  Richard Nixon      Republican  ...        76.00       2,207.40\n",
              "\n",
              "[5 rows x 8 columns]"
            ]
          },
          "metadata": {
            "tags": []
          },
          "execution_count": 12
        }
      ]
    },
    {
      "cell_type": "markdown",
      "metadata": {
        "id": "n_QYvBLEyIaS"
      },
      "source": [
        "I changed the president party column to booleens to make them easier to compare to the other columns."
      ]
    },
    {
      "cell_type": "code",
      "metadata": {
        "colab": {
          "base_uri": "https://localhost:8080/",
          "height": 204
        },
        "id": "iSL-d85mdz7Y",
        "outputId": "f70391b8-0555-4ebc-873a-53a7810a1d38"
      },
      "source": [
        "snap_pres = snap_pres.replace('Republican', 1)\n",
        "snap_pres = snap_pres.replace('Democratic', 0)\n",
        "snap_pres.head()"
      ],
      "execution_count": 13,
      "outputs": [
        {
          "output_type": "execute_result",
          "data": {
            "text/html": [
              "<div>\n",
              "<style scoped>\n",
              "    .dataframe tbody tr th:only-of-type {\n",
              "        vertical-align: middle;\n",
              "    }\n",
              "\n",
              "    .dataframe tbody tr th {\n",
              "        vertical-align: top;\n",
              "    }\n",
              "\n",
              "    .dataframe thead th {\n",
              "        text-align: right;\n",
              "    }\n",
              "</style>\n",
              "<table border=\"1\" class=\"dataframe\">\n",
              "  <thead>\n",
              "    <tr style=\"text-align: right;\">\n",
              "      <th></th>\n",
              "      <th>President Name</th>\n",
              "      <th>President Party</th>\n",
              "      <th>Year</th>\n",
              "      <th>Average Participation</th>\n",
              "      <th>Average Benefit Per Person</th>\n",
              "      <th>Total Benefits(M)</th>\n",
              "      <th>Other Costs</th>\n",
              "      <th>Total Costs(M)</th>\n",
              "    </tr>\n",
              "  </thead>\n",
              "  <tbody>\n",
              "    <tr>\n",
              "      <th>0</th>\n",
              "      <td>Richard Nixon</td>\n",
              "      <td>1</td>\n",
              "      <td>1969</td>\n",
              "      <td>2,878</td>\n",
              "      <td>6.63</td>\n",
              "      <td>228.80</td>\n",
              "      <td>21.70</td>\n",
              "      <td>250.50</td>\n",
              "    </tr>\n",
              "    <tr>\n",
              "      <th>1</th>\n",
              "      <td>Richard Nixon</td>\n",
              "      <td>1</td>\n",
              "      <td>1970</td>\n",
              "      <td>4,340</td>\n",
              "      <td>10.55</td>\n",
              "      <td>549.70</td>\n",
              "      <td>27.20</td>\n",
              "      <td>576.90</td>\n",
              "    </tr>\n",
              "    <tr>\n",
              "      <th>2</th>\n",
              "      <td>Richard Nixon</td>\n",
              "      <td>1</td>\n",
              "      <td>1971</td>\n",
              "      <td>9,368</td>\n",
              "      <td>13.55</td>\n",
              "      <td>1,522.70</td>\n",
              "      <td>53.20</td>\n",
              "      <td>1,575.90</td>\n",
              "    </tr>\n",
              "    <tr>\n",
              "      <th>3</th>\n",
              "      <td>Richard Nixon</td>\n",
              "      <td>1</td>\n",
              "      <td>1972</td>\n",
              "      <td>11,109</td>\n",
              "      <td>13.48</td>\n",
              "      <td>1,797.30</td>\n",
              "      <td>69.40</td>\n",
              "      <td>1,866.70</td>\n",
              "    </tr>\n",
              "    <tr>\n",
              "      <th>4</th>\n",
              "      <td>Richard Nixon</td>\n",
              "      <td>1</td>\n",
              "      <td>1973</td>\n",
              "      <td>12,166</td>\n",
              "      <td>14.60</td>\n",
              "      <td>2,131.40</td>\n",
              "      <td>76.00</td>\n",
              "      <td>2,207.40</td>\n",
              "    </tr>\n",
              "  </tbody>\n",
              "</table>\n",
              "</div>"
            ],
            "text/plain": [
              "  President Name  President Party  ...  Other Costs Total Costs(M)\n",
              "0  Richard Nixon                1  ...        21.70         250.50\n",
              "1  Richard Nixon                1  ...        27.20         576.90\n",
              "2  Richard Nixon                1  ...        53.20       1,575.90\n",
              "3  Richard Nixon                1  ...        69.40       1,866.70\n",
              "4  Richard Nixon                1  ...        76.00       2,207.40\n",
              "\n",
              "[5 rows x 8 columns]"
            ]
          },
          "metadata": {
            "tags": []
          },
          "execution_count": 13
        }
      ]
    },
    {
      "cell_type": "markdown",
      "metadata": {
        "id": "ettIAe0jqMqg"
      },
      "source": [
        "Pairplot was used here to compare all of the columns in the dataset to themselves. "
      ]
    },
    {
      "cell_type": "code",
      "metadata": {
        "colab": {
          "base_uri": "https://localhost:8080/",
          "height": 550
        },
        "id": "XeQO-FxrcDPY",
        "outputId": "905e9a43-46b5-4317-c6c4-028bdb462d43"
      },
      "source": [
        "import matplotlib.pyplot as plt\n",
        "import seaborn as sns\n",
        "sns.pairplot(snap_pres);"
      ],
      "execution_count": 14,
      "outputs": [
        {
          "output_type": "display_data",
          "data": {
            "image/png": "[encoded data removed]",
            "text/plain": [
              "<Figure size 540x540 with 12 Axes>"
            ]
          },
          "metadata": {
            "tags": [],
            "needs_background": "light"
          }
        }
      ]
    },
    {
      "cell_type": "markdown",
      "metadata": {
        "id": "ZpOPj598l7SA"
      },
      "source": [
        "Here you can see a correlation between the average benefit per person and year with a 98% correlation."
      ]
    },
    {
      "cell_type": "code",
      "metadata": {
        "colab": {
          "base_uri": "https://localhost:8080/"
        },
        "id": "e-5qFxxReWat",
        "outputId": "e5d97af9-2289-4e69-e2df-f4241a494963"
      },
      "source": [
        "r = np.corrcoef(snap_pres['Average Benefit Per Person'], snap_pres['Year'])\n",
        "print(r)"
      ],
      "execution_count": 15,
      "outputs": [
        {
          "output_type": "stream",
          "text": [
            "[[1.         0.98128063]\n",
            " [0.98128063 1.        ]]\n"
          ],
          "name": "stdout"
        }
      ]
    },
    {
      "cell_type": "markdown",
      "metadata": {
        "id": "I-1tTPdEqZaY"
      },
      "source": [
        "There's an obvious positively correlated relationship between the year increase and the average benefit per person. This is mostly due to inflation."
      ]
    },
    {
      "cell_type": "code",
      "metadata": {
        "colab": {
          "base_uri": "https://localhost:8080/",
          "height": 279
        },
        "id": "mlrgkflJgImQ",
        "outputId": "15b1c3e2-d1bd-412e-fa73-ac254e482bc9"
      },
      "source": [
        "ax = sns.regplot(x = \"Average Benefit Per Person\", y = \"Year\", data = snap_pres, ci = None)"
      ],
      "execution_count": 16,
      "outputs": [
        {
          "output_type": "display_data",
          "data": {
            "image/png": "[encoded data removed]",
            "text/plain": [
              "<Figure size 432x288 with 1 Axes>"
            ]
          },
          "metadata": {
            "tags": [],
            "needs_background": "light"
          }
        }
      ]
    },
    {
      "cell_type": "markdown",
      "metadata": {
        "id": "rOjoItvvmYYB"
      },
      "source": [
        "I tried correlation coeffient with average benefit per person and president party, but I don't think this is the right way to compare the two columns."
      ]
    },
    {
      "cell_type": "code",
      "metadata": {
        "colab": {
          "base_uri": "https://localhost:8080/"
        },
        "id": "kt-owd1YgBmY",
        "outputId": "49c10851-a2d4-4a58-f9fd-7411a0f07962"
      },
      "source": [
        "r = np.corrcoef(snap_pres['Average Benefit Per Person'], snap_pres['President Party'])\n",
        "print(r)"
      ],
      "execution_count": 17,
      "outputs": [
        {
          "output_type": "stream",
          "text": [
            "[[ 1.         -0.34637128]\n",
            " [-0.34637128  1.        ]]\n"
          ],
          "name": "stdout"
        }
      ]
    },
    {
      "cell_type": "markdown",
      "metadata": {
        "id": "DxXdXh5JmsCf"
      },
      "source": [
        "Here we can see a crosstab of the president party. Remember that Republican is represented by 1 and Democrat by 0. Showing that there were 31 occurrences of Repulican presidents and 20 occurrences of Democrat presidents between 1969 and 2019. "
      ]
    },
    {
      "cell_type": "code",
      "metadata": {
        "colab": {
          "base_uri": "https://localhost:8080/"
        },
        "id": "aFRxutKyqhIS",
        "outputId": "f184fc43-4a5a-47f5-fff5-e037faa74041"
      },
      "source": [
        "print(pd.crosstab(index=snap_pres['President Party'], columns='count'))"
      ],
      "execution_count": 18,
      "outputs": [
        {
          "output_type": "stream",
          "text": [
            "col_0            count\n",
            "President Party       \n",
            "0                   20\n",
            "1                   31\n"
          ],
          "name": "stdout"
        }
      ]
    },
    {
      "cell_type": "markdown",
      "metadata": {
        "id": "sHLEd5D4ne6T"
      },
      "source": [
        "This is a histogram representing the average SNAP benefits per person by the political party of the sitting U.S. president."
      ]
    },
    {
      "cell_type": "code",
      "metadata": {
        "colab": {
          "base_uri": "https://localhost:8080/",
          "height": 295
        },
        "id": "DjvkNzdglSFl",
        "outputId": "287ca514-9e65-4c22-d196-58169ef46589"
      },
      "source": [
        "pres_dem = snap_pres[snap_pres['President Party'] == 0]\n",
        "pres_rep = snap_pres[snap_pres['President Party'] == 1]\n",
        "\n",
        "plt.hist(pres_rep['Average Benefit Per Person'], label= 'Republican Presidency', color = 'darkorange')\n",
        "plt.hist(pres_dem['Average Benefit Per Person'], label= 'Democrat Presidency')\n",
        "\n",
        "plt.xlabel('Benefit Amount in US Dollars')\n",
        "plt.ylabel('Frequency')\n",
        "plt.title('Average Snap Benefits Per Person')\n",
        "plt.legend(loc='upper left')\n",
        "\n",
        "plt.show()"
      ],
      "execution_count": 19,
      "outputs": [
        {
          "output_type": "display_data",
          "data": {
            "image/png": "[encoded data removed]",
            "text/plain": [
              "<Figure size 432x288 with 1 Axes>"
            ]
          },
          "metadata": {
            "tags": [],
            "needs_background": "light"
          }
        }
      ]
    },
    {
      "cell_type": "markdown",
      "metadata": {
        "id": "PXh85Q5Wq1FB"
      },
      "source": [
        "The democrats have had less time in office between 1969 and 2019, but the snap benefits seem to increase during democratic governing."
      ]
    },
    {
      "cell_type": "markdown",
      "metadata": {
        "id": "yql2gMwWnv1k"
      },
      "source": [
        "This is a boxplot of the average SNAP benefits per person by the political party of the sitting U.S. president. "
      ]
    },
    {
      "cell_type": "code",
      "metadata": {
        "colab": {
          "base_uri": "https://localhost:8080/",
          "height": 355
        },
        "id": "QNjRgGMGo56F",
        "outputId": "e66f6e2b-d787-4b6a-8113-84a1a7d9bd93"
      },
      "source": [
        "snap_pres.boxplot(column='Average Benefit Per Person', by= 'President Party')\n",
        "plt.xticks([1, 2], ['Democratic', 'Republican'])\n",
        "plt.ylabel('Average Benefit Per Person')\n",
        "\n",
        "plt.show()"
      ],
      "execution_count": 20,
      "outputs": [
        {
          "output_type": "stream",
          "text": [
            "/usr/local/lib/python3.6/dist-packages/numpy/core/_asarray.py:83: VisibleDeprecationWarning: Creating an ndarray from ragged nested sequences (which is a list-or-tuple of lists-or-tuples-or ndarrays with different lengths or shapes) is deprecated. If you meant to do this, you must specify 'dtype=object' when creating the ndarray\n",
            "  return array(a, dtype, copy=False, order=order)\n"
          ],
          "name": "stderr"
        },
        {
          "output_type": "display_data",
          "data": {
            "image/png": "[encoded data removed]",
            "text/plain": [
              "<Figure size 432x288 with 1 Axes>"
            ]
          },
          "metadata": {
            "tags": [],
            "needs_background": "light"
          }
        }
      ]
    },
    {
      "cell_type": "markdown",
      "metadata": {
        "id": "ZSc6e11ZtXAt"
      },
      "source": [
        "New dataset for just the years 1990-2019."
      ]
    },
    {
      "cell_type": "code",
      "metadata": {
        "colab": {
          "base_uri": "https://localhost:8080/",
          "height": 204
        },
        "id": "BFMM8gaasMSG",
        "outputId": "8cf5632e-73e0-487b-9487-709e662b3b30"
      },
      "source": [
        "snap_pres_90up = snap_pres[snap_pres['Year'] >= 1990]\n",
        "snap_pres_90up.head()"
      ],
      "execution_count": 21,
      "outputs": [
        {
          "output_type": "execute_result",
          "data": {
            "text/html": [
              "<div>\n",
              "<style scoped>\n",
              "    .dataframe tbody tr th:only-of-type {\n",
              "        vertical-align: middle;\n",
              "    }\n",
              "\n",
              "    .dataframe tbody tr th {\n",
              "        vertical-align: top;\n",
              "    }\n",
              "\n",
              "    .dataframe thead th {\n",
              "        text-align: right;\n",
              "    }\n",
              "</style>\n",
              "<table border=\"1\" class=\"dataframe\">\n",
              "  <thead>\n",
              "    <tr style=\"text-align: right;\">\n",
              "      <th></th>\n",
              "      <th>President Name</th>\n",
              "      <th>President Party</th>\n",
              "      <th>Year</th>\n",
              "      <th>Average Participation</th>\n",
              "      <th>Average Benefit Per Person</th>\n",
              "      <th>Total Benefits(M)</th>\n",
              "      <th>Other Costs</th>\n",
              "      <th>Total Costs(M)</th>\n",
              "    </tr>\n",
              "  </thead>\n",
              "  <tbody>\n",
              "    <tr>\n",
              "      <th>21</th>\n",
              "      <td>George H. W. Bush</td>\n",
              "      <td>1</td>\n",
              "      <td>1990</td>\n",
              "      <td>20,049</td>\n",
              "      <td>58.78</td>\n",
              "      <td>14,142.79</td>\n",
              "      <td>1,304.47</td>\n",
              "      <td>15,447.26</td>\n",
              "    </tr>\n",
              "    <tr>\n",
              "      <th>22</th>\n",
              "      <td>George H. W. Bush</td>\n",
              "      <td>1</td>\n",
              "      <td>1991</td>\n",
              "      <td>22,625</td>\n",
              "      <td>63.78</td>\n",
              "      <td>17,315.77</td>\n",
              "      <td>1,431.50</td>\n",
              "      <td>18,747.27</td>\n",
              "    </tr>\n",
              "    <tr>\n",
              "      <th>23</th>\n",
              "      <td>George H. W. Bush</td>\n",
              "      <td>1</td>\n",
              "      <td>1992</td>\n",
              "      <td>25,407</td>\n",
              "      <td>68.57</td>\n",
              "      <td>20,905.68</td>\n",
              "      <td>1,556.66</td>\n",
              "      <td>22,462.34</td>\n",
              "    </tr>\n",
              "    <tr>\n",
              "      <th>24</th>\n",
              "      <td>Bill Clinton</td>\n",
              "      <td>0</td>\n",
              "      <td>1993</td>\n",
              "      <td>26,987</td>\n",
              "      <td>67.95</td>\n",
              "      <td>22,006.03</td>\n",
              "      <td>1,646.94</td>\n",
              "      <td>23,652.97</td>\n",
              "    </tr>\n",
              "    <tr>\n",
              "      <th>25</th>\n",
              "      <td>Bill Clinton</td>\n",
              "      <td>0</td>\n",
              "      <td>1994</td>\n",
              "      <td>27,474</td>\n",
              "      <td>69.00</td>\n",
              "      <td>22,748.58</td>\n",
              "      <td>1,744.87</td>\n",
              "      <td>24,493.45</td>\n",
              "    </tr>\n",
              "  </tbody>\n",
              "</table>\n",
              "</div>"
            ],
            "text/plain": [
              "       President Name  President Party  ...  Other Costs Total Costs(M)\n",
              "21  George H. W. Bush                1  ...     1,304.47      15,447.26\n",
              "22  George H. W. Bush                1  ...     1,431.50      18,747.27\n",
              "23  George H. W. Bush                1  ...     1,556.66      22,462.34\n",
              "24       Bill Clinton                0  ...     1,646.94      23,652.97\n",
              "25       Bill Clinton                0  ...     1,744.87      24,493.45\n",
              "\n",
              "[5 rows x 8 columns]"
            ]
          },
          "metadata": {
            "tags": []
          },
          "execution_count": 21
        }
      ]
    },
    {
      "cell_type": "markdown",
      "metadata": {
        "id": "zMHo2bQxocfS"
      },
      "source": [
        "I had to use 'Q()' to use column names that have spaces in the OLS model."
      ]
    },
    {
      "cell_type": "code",
      "metadata": {
        "colab": {
          "base_uri": "https://localhost:8080/"
        },
        "id": "2AM1wQwhflVv",
        "outputId": "921bad72-3cf9-49b5-a40f-093e54457dd8"
      },
      "source": [
        "from statsmodels.formula.api import ols\n",
        "\n",
        "model = ols('Q(\"President Party\") ~ Q(\"Average Benefit Per Person\")', data = snap_pres_90up).fit()\n",
        "\n",
        "print(model.summary())"
      ],
      "execution_count": 23,
      "outputs": [
        {
          "output_type": "stream",
          "text": [
            "                             OLS Regression Results                             \n",
            "================================================================================\n",
            "Dep. Variable:     Q(\"President Party\")   R-squared:                       0.027\n",
            "Model:                              OLS   Adj. R-squared:                 -0.007\n",
            "Method:                   Least Squares   F-statistic:                    0.7869\n",
            "Date:                  Sun, 03 Jan 2021   Prob (F-statistic):              0.383\n",
            "Time:                          23:36:33   Log-Likelihood:                -21.291\n",
            "No. Observations:                    30   AIC:                             46.58\n",
            "Df Residuals:                        28   BIC:                             49.38\n",
            "Df Model:                             1                                         \n",
            "Covariance Type:              nonrobust                                         \n",
            "===================================================================================================\n",
            "                                      coef    std err          t      P>|t|      [0.025      0.975]\n",
            "---------------------------------------------------------------------------------------------------\n",
            "Intercept                           0.7657      0.350      2.190      0.037       0.049       1.482\n",
            "Q(\"Average Benefit Per Person\")    -0.0031      0.004     -0.887      0.383      -0.010       0.004\n",
            "==============================================================================\n",
            "Omnibus:                       93.979   Durbin-Watson:                   0.535\n",
            "Prob(Omnibus):                  0.000   Jarque-Bera (JB):                4.478\n",
            "Skew:                           0.106   Prob(JB):                        0.107\n",
            "Kurtosis:                       1.119   Cond. No.                         375.\n",
            "==============================================================================\n",
            "\n",
            "Warnings:\n",
            "[1] Standard Errors assume that the covariance matrix of the errors is correctly specified.\n"
          ],
          "name": "stdout"
        }
      ]
    },
    {
      "cell_type": "code",
      "metadata": {
        "colab": {
          "base_uri": "https://localhost:8080/"
        },
        "id": "D6aCSzfEWdlM",
        "outputId": "5971345d-c692-48a2-fd05-b46231652456"
      },
      "source": [
        "model = ols('Year ~ Q(\"Average Benefit Per Person\") + Q(\"President Party\")', data = snap_pres_90up).fit()\n",
        "\n",
        "print(model.summary())"
      ],
      "execution_count": 24,
      "outputs": [
        {
          "output_type": "stream",
          "text": [
            "                            OLS Regression Results                            \n",
            "==============================================================================\n",
            "Dep. Variable:                   Year   R-squared:                       0.901\n",
            "Model:                            OLS   Adj. R-squared:                  0.894\n",
            "Method:                 Least Squares   F-statistic:                     123.2\n",
            "Date:                Sun, 03 Jan 2021   Prob (F-statistic):           2.66e-14\n",
            "Time:                        23:36:40   Log-Likelihood:                -72.583\n",
            "No. Observations:                  30   AIC:                             151.2\n",
            "Df Residuals:                      27   BIC:                             155.4\n",
            "Df Model:                           2                                         \n",
            "Covariance Type:            nonrobust                                         \n",
            "===================================================================================================\n",
            "                                      coef    std err          t      P>|t|      [0.025      0.975]\n",
            "---------------------------------------------------------------------------------------------------\n",
            "Intercept                        1973.0104      2.130    926.303      0.000    1968.640    1977.381\n",
            "Q(\"Average Benefit Per Person\")     0.3138      0.020     15.699      0.000       0.273       0.355\n",
            "Q(\"President Party\")                2.7612      1.064      2.596      0.015       0.578       4.944\n",
            "==============================================================================\n",
            "Omnibus:                        2.988   Durbin-Watson:                   0.312\n",
            "Prob(Omnibus):                  0.224   Jarque-Bera (JB):                2.346\n",
            "Skew:                          -0.549   Prob(JB):                        0.309\n",
            "Kurtosis:                       2.180   Cond. No.                         415.\n",
            "==============================================================================\n",
            "\n",
            "Warnings:\n",
            "[1] Standard Errors assume that the covariance matrix of the errors is correctly specified.\n"
          ],
          "name": "stdout"
        }
      ]
    },
    {
      "cell_type": "markdown",
      "metadata": {
        "id": "BWqpYE1No0Yz"
      },
      "source": [
        "This boxplot only includes 1990-2019 and paints a better picture of the more recent future."
      ]
    },
    {
      "cell_type": "code",
      "metadata": {
        "colab": {
          "base_uri": "https://localhost:8080/",
          "height": 355
        },
        "id": "-E_AUmTftjx5",
        "outputId": "39d6e93a-6e46-422e-8d8e-6443534a3bd6"
      },
      "source": [
        "snap_pres_90up.boxplot(column='Average Benefit Per Person', by= 'President Party')\n",
        "plt.xticks([1, 2], ['Democratic', 'Republican'])\n",
        "plt.ylabel('Average Benefit Per Person')\n",
        "\n",
        "plt.show()"
      ],
      "execution_count": 25,
      "outputs": [
        {
          "output_type": "stream",
          "text": [
            "/usr/local/lib/python3.6/dist-packages/numpy/core/_asarray.py:83: VisibleDeprecationWarning: Creating an ndarray from ragged nested sequences (which is a list-or-tuple of lists-or-tuples-or ndarrays with different lengths or shapes) is deprecated. If you meant to do this, you must specify 'dtype=object' when creating the ndarray\n",
            "  return array(a, dtype, copy=False, order=order)\n"
          ],
          "name": "stderr"
        },
        {
          "output_type": "display_data",
          "data": {
            "image/png": "[encoded data removed]",
            "text/plain": [
              "<Figure size 432x288 with 1 Axes>"
            ]
          },
          "metadata": {
            "tags": [],
            "needs_background": "light"
          }
        }
      ]
    },
    {
      "cell_type": "markdown",
      "metadata": {
        "id": "WmCjM0eIrI87"
      },
      "source": [
        "Histogram with only 1990-2019."
      ]
    },
    {
      "cell_type": "code",
      "metadata": {
        "colab": {
          "base_uri": "https://localhost:8080/",
          "height": 295
        },
        "id": "tP7ZLjA1tt7c",
        "outputId": "ecf84412-34bc-4459-bda6-67bd8c206333"
      },
      "source": [
        "pres_dem = snap_pres_90up[snap_pres_90up['President Party'] == 0]\n",
        "pres_rep = snap_pres_90up[snap_pres_90up['President Party'] == 1]\n",
        "\n",
        "plt.hist(pres_dem['Average Benefit Per Person'], label= 'Democrat Presidency')\n",
        "plt.hist(pres_rep['Average Benefit Per Person'], label= 'Republican Presidency')\n",
        "\n",
        "plt.xlabel('Benefit Amount in US Dollars')\n",
        "plt.ylabel('Frequency')\n",
        "plt.title('Average Snap Benefits Per Person')\n",
        "plt.legend(loc='upper right')\n",
        "\n",
        "plt.show()"
      ],
      "execution_count": 26,
      "outputs": [
        {
          "output_type": "display_data",
          "data": {
            "image/png": "[encoded data removed]",
            "text/plain": [
              "<Figure size 432x288 with 1 Axes>"
            ]
          },
          "metadata": {
            "tags": [],
            "needs_background": "light"
          }
        }
      ]
    },
    {
      "cell_type": "markdown",
      "metadata": {
        "id": "moAa8NDEpF6z"
      },
      "source": [
        "This scatter plot with regression line shows how when you narrow the years down to 1990-2019, the benefits don't have as much of a linear increase. Indicating ups and downs in the benefits received."
      ]
    },
    {
      "cell_type": "code",
      "metadata": {
        "colab": {
          "base_uri": "https://localhost:8080/",
          "height": 280
        },
        "id": "20wB6-M6uD6J",
        "outputId": "fac7c9a6-9fc2-49e5-b91d-6b4917ecc278"
      },
      "source": [
        "ax = sns.regplot(x = \"Average Benefit Per Person\", y = \"Year\", data = snap_pres_90up, ci = None)"
      ],
      "execution_count": 27,
      "outputs": [
        {
          "output_type": "display_data",
          "data": {
            "image/png": "[encoded data removed]",
            "text/plain": [
              "<Figure size 432x288 with 1 Axes>"
            ]
          },
          "metadata": {
            "tags": [],
            "needs_background": "light"
          }
        }
      ]
    },
    {
      "cell_type": "markdown",
      "metadata": {
        "id": "YnafgRpD0-DC"
      },
      "source": [
        "Figuring out the mean, median, and mode to determine where I should split the average benefit per person. This will allow me to make low and high catagories."
      ]
    },
    {
      "cell_type": "code",
      "metadata": {
        "colab": {
          "base_uri": "https://localhost:8080/"
        },
        "id": "9r0dDWJMy_s1",
        "outputId": "28e4c910-5f36-4b0a-d22d-0e14045cee72"
      },
      "source": [
        "print(snap_pres_90up['Average Benefit Per Person'].mean())\n",
        "print(snap_pres_90up['Average Benefit Per Person'].median())\n",
        "snap_pres_90up['Average Benefit Per Person'].mode()"
      ],
      "execution_count": 28,
      "outputs": [
        {
          "output_type": "stream",
          "text": [
            "96.22933333333334\n",
            "89.525\n"
          ],
          "name": "stdout"
        },
        {
          "output_type": "execute_result",
          "data": {
            "text/plain": [
              "0    71.27\n",
              "dtype: float64"
            ]
          },
          "metadata": {
            "tags": []
          },
          "execution_count": 28
        }
      ]
    },
    {
      "cell_type": "markdown",
      "metadata": {
        "id": "zc8QGWTfpoZ_"
      },
      "source": [
        "This histogram shows the low and high benefits distributed between the presidents political party."
      ]
    },
    {
      "cell_type": "code",
      "metadata": {
        "colab": {
          "base_uri": "https://localhost:8080/",
          "height": 279
        },
        "id": "8xMuvmSdym0a",
        "outputId": "124a0395-fe27-4b25-abe7-700b333f9200"
      },
      "source": [
        "low_per_person = snap_pres_90up[snap_pres_90up['Average Benefit Per Person'] <= 96.2]\n",
        "high_per_person = snap_pres_90up[snap_pres_90up['Average Benefit Per Person'] >= 96.3]\n",
        "\n",
        "plt.hist(low_per_person['President Party'], label= 'Low Benefit Per Person')\n",
        "plt.hist(high_per_person['President Party'], label= 'High Benefit Per Person')\n",
        "\n",
        "plt.xlabel('President Party')\n",
        "plt.xticks([0, 1], ['Democrat', 'Republican'])\n",
        "plt.ylabel('Frequency')\n",
        "plt.title('')\n",
        "plt.legend(loc='upper center')\n",
        "\n",
        "plt.show()"
      ],
      "execution_count": 31,
      "outputs": [
        {
          "output_type": "display_data",
          "data": {
            "image/png": "[encoded data removed]",
            "text/plain": [
              "<Figure size 432x288 with 1 Axes>"
            ]
          },
          "metadata": {
            "tags": [],
            "needs_background": "light"
          }
        }
      ]
    }
  ]
}